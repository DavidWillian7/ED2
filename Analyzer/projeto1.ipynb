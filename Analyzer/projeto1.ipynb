{
  "nbformat": 4,
  "nbformat_minor": 0,
  "metadata": {
    "colab": {
      "provenance": []
    },
    "kernelspec": {
      "name": "python3",
      "display_name": "Python 3"
    },
    "language_info": {
      "name": "python"
    }
  },
  "cells": [
    {
      "cell_type": "code",
      "source": [
        "from csv import reader\n",
        "class Analyzer:\n",
        "  def __init__(self,arq):\n",
        "    self.arq = arq\n",
        "    self.opened_file = open(self.arq, encoding='utf-8')\n",
        "    self.read_file = reader(self.opened_file)\n",
        "    self.file = list(self.read_file)\n",
        "    self.dataset_header = self.file[0]\n",
        "    self.dataset = self.file[1:]\n",
        "\n",
        "  def explore_data(self, start, end, rows_and_columns=False):\n",
        "    dataset_slice = self.dataset[start:end]    \n",
        "    for row in dataset_slice:\n",
        "      print(row)\n",
        "      print('\\n') \n",
        "\n",
        "    if(rows_and_columns):\n",
        "      print('Number of rows:', len(self.dataset))\n",
        "      print('Number of columns:', len(self.dataset[0]))\n",
        "\n",
        "  def delete_row(self, number_row):\n",
        "    del self.dataset[number_row]\n",
        "  \n",
        "  def show_duplicates(self):\n",
        "    duplicate_apps = []\n",
        "    unique_apps = []\n",
        "\n",
        "    for app in self.dataset:\n",
        "      name = app[0]\n",
        "      if(name in unique_apps):\n",
        "        duplicate_apps.append(name)\n",
        "      else:\n",
        "        unique_apps.append(name)\n",
        "    \n",
        "    print('Number of duplicate apps:', len(duplicate_apps))\n",
        "    print('\\n')\n",
        "    print('Examples of duplicate apps:', duplicate_apps[:15])\n",
        "  \n",
        "  def remove_duplicate(self):\n",
        "    reviews_max = {}\n",
        "\n",
        "    for app in self.dataset:\n",
        "      name = app[0]\n",
        "      n_reviews = float(app[3])\n",
        "      if name in reviews_max and reviews_max[name] < n_reviews:\n",
        "        reviews_max[name] = n_reviews\n",
        "      elif(name not in reviews_max):\n",
        "        reviews_max[name] = n_reviews\n",
        "\n",
        "    dataset_clean = []\n",
        "    already_added = []\n",
        "\n",
        "    for app in self.dataset:\n",
        "      name = app[0]\n",
        "      n_reviews = float(app[3])\n",
        "      if(reviews_max[name] == n_reviews) and (name not in already_added):\n",
        "        dataset_clean.append(app)\n",
        "        already_added.append(name)\n",
        "\n",
        "    self.dataset = dataset_clean\n",
        "\n",
        "  def is_english(self,string):\n",
        "    non_ascii = 0\n",
        "    for character in string:\n",
        "      if ord(character) > 127:\n",
        "        non_ascii += 1\n",
        "    \n",
        "    if non_ascii > 3:\n",
        "      return False\n",
        "    else:\n",
        "      return True\n",
        "\n",
        "  def clean_english(self, index):\n",
        "    dataset_english = []\n",
        "\n",
        "    for app in self.dataset:\n",
        "      name = app[index]\n",
        "      if self.is_english(name):\n",
        "        dataset_english.append(app)\n",
        "    \n",
        "    self.dataset = dataset_english\n",
        "\n",
        "  def free_apps(self, index):\n",
        "    dataset_final = []\n",
        "\n",
        "    for app in self.dataset:\n",
        "      price = app[index]\n",
        "      if price == '0' and index == 7:\n",
        "        dataset_final.append(app)\n",
        "      elif price == '0.0' and index == 4:\n",
        "        dataset_final.append(app)\n",
        "\n",
        "    self.dataset = dataset_final\n",
        "\n",
        "  def freq_table(self, index):\n",
        "    table = {}\n",
        "    total = 0\n",
        "    \n",
        "    for row in self.dataset:\n",
        "      total += 1\n",
        "      value = row[index]\n",
        "      if value in table:\n",
        "        table[value] += 1\n",
        "      else:\n",
        "        table[value] = 1\n",
        "    \n",
        "    table_percentages = {}\n",
        "    for key in table:\n",
        "      percentage = (table[key] / total) * 100\n",
        "      table_percentages[key] = percentage \n",
        "    \n",
        "    return table_percentages\n",
        "\n",
        "\n",
        "  def display_table(self, index):\n",
        "    table = self.freq_table(index)\n",
        "    table_display = []\n",
        "    for key in table:\n",
        "      key_val_as_tuple = (table[key], key)\n",
        "      table_display.append(key_val_as_tuple)\n",
        "        \n",
        "    table_sorted = sorted(table_display, reverse = True)\n",
        "    for entry in table_sorted:\n",
        "      print(entry[1], ':', entry[0])"
      ],
      "metadata": {
        "id": "lAl7L8PNkmdu"
      },
      "execution_count": 46,
      "outputs": []
    },
    {
      "cell_type": "code",
      "source": [
        "dataIos = Analyzer('AppleStore.csv')\n",
        "print(dataIos.dataset_header)\n",
        "dataIos.explore_data(3,6,True)\n",
        "\n",
        "print('\\n')\n",
        "\n",
        "dataAndroid = Analyzer('googleplaystore.csv')\n",
        "print(dataAndroid.dataset_header)\n",
        "dataAndroid.explore_data(3,6,True)"
      ],
      "metadata": {
        "colab": {
          "base_uri": "https://localhost:8080/"
        },
        "id": "9W8BfUhSEhsk",
        "outputId": "e96064c2-9fb8-4dd1-ae3b-e6dc9354f3e5"
      },
      "execution_count": 47,
      "outputs": [
        {
          "output_type": "stream",
          "name": "stdout",
          "text": [
            "['id', 'track_name', 'size_bytes', 'currency', 'price', 'rating_count_tot', 'rating_count_ver', 'user_rating', 'user_rating_ver', 'ver', 'cont_rating', 'prime_genre', 'sup_devices.num', 'ipadSc_urls.num', 'lang.num', 'vpp_lic']\n",
            "['420009108', 'Temple Run', '65921024', 'USD', '0.0', '1724546', '3842', '4.5', '4.0', '1.6.2', '9+', 'Games', '40', '5', '1', '1']\n",
            "\n",
            "\n",
            "['284035177', 'Pandora - Music & Radio', '130242560', 'USD', '0.0', '1126879', '3594', '4.0', '4.5', '8.4.1', '12+', 'Music', '37', '4', '1', '1']\n",
            "\n",
            "\n",
            "['429047995', 'Pinterest', '74778624', 'USD', '0.0', '1061624', '1814', '4.5', '4.0', '6.26', '12+', 'Social Networking', '37', '5', '27', '1']\n",
            "\n",
            "\n",
            "Number of rows: 7197\n",
            "Number of columns: 16\n",
            "\n",
            "\n",
            "['App', 'Category', 'Rating', 'Reviews', 'Size', 'Installs', 'Type', 'Price', 'Content Rating', 'Genres', 'Last Updated', 'Current Ver', 'Android Ver']\n",
            "['Sketch - Draw & Paint', 'ART_AND_DESIGN', '4.5', '215644', '25M', '50,000,000+', 'Free', '0', 'Teen', 'Art & Design', 'June 8, 2018', 'Varies with device', '4.2 and up']\n",
            "\n",
            "\n",
            "['Pixel Draw - Number Art Coloring Book', 'ART_AND_DESIGN', '4.3', '967', '2.8M', '100,000+', 'Free', '0', 'Everyone', 'Art & Design;Creativity', 'June 20, 2018', '1.1', '4.4 and up']\n",
            "\n",
            "\n",
            "['Paper flowers instructions', 'ART_AND_DESIGN', '4.4', '167', '5.6M', '50,000+', 'Free', '0', 'Everyone', 'Art & Design', 'March 26, 2017', '1.0', '2.3 and up']\n",
            "\n",
            "\n",
            "Number of rows: 10841\n",
            "Number of columns: 13\n"
          ]
        }
      ]
    },
    {
      "cell_type": "code",
      "source": [
        "dataAndroid.explore_data(0,1,True)\n",
        "dataAndroid.delete_row(10472)\n",
        "dataAndroid.explore_data(0,1,True)"
      ],
      "metadata": {
        "colab": {
          "base_uri": "https://localhost:8080/"
        },
        "id": "__fMWDhaJMbk",
        "outputId": "81cb51c1-a0b9-4bd9-bb9f-7cf89740d36f"
      },
      "execution_count": 48,
      "outputs": [
        {
          "output_type": "stream",
          "name": "stdout",
          "text": [
            "['Photo Editor & Candy Camera & Grid & ScrapBook', 'ART_AND_DESIGN', '4.1', '159', '19M', '10,000+', 'Free', '0', 'Everyone', 'Art & Design', 'January 7, 2018', '1.0.0', '4.0.3 and up']\n",
            "\n",
            "\n",
            "Number of rows: 10841\n",
            "Number of columns: 13\n",
            "['Photo Editor & Candy Camera & Grid & ScrapBook', 'ART_AND_DESIGN', '4.1', '159', '19M', '10,000+', 'Free', '0', 'Everyone', 'Art & Design', 'January 7, 2018', '1.0.0', '4.0.3 and up']\n",
            "\n",
            "\n",
            "Number of rows: 10840\n",
            "Number of columns: 13\n"
          ]
        }
      ]
    },
    {
      "cell_type": "code",
      "source": [
        "dataAndroid.show_duplicates()\n",
        "dataAndroid.remove_duplicate()\n",
        "\n",
        "print(dataAndroid.dataset_header)\n",
        "dataAndroid.explore_data(0,1,True)"
      ],
      "metadata": {
        "colab": {
          "base_uri": "https://localhost:8080/"
        },
        "id": "7jpCTbHaILpp",
        "outputId": "f4242062-c057-4fd0-bddd-e27d319806b4"
      },
      "execution_count": 49,
      "outputs": [
        {
          "output_type": "stream",
          "name": "stdout",
          "text": [
            "Number of duplicate apps: 1181\n",
            "\n",
            "\n",
            "Examples of duplicate apps: ['Quick PDF Scanner + OCR FREE', 'Box', 'Google My Business', 'ZOOM Cloud Meetings', 'join.me - Simple Meetings', 'Box', 'Zenefits', 'Google Ads', 'Google My Business', 'Slack', 'FreshBooks Classic', 'Insightly CRM', 'QuickBooks Accounting: Invoicing & Expenses', 'HipChat - Chat Built for Teams', 'Xero Accounting Software']\n",
            "['App', 'Category', 'Rating', 'Reviews', 'Size', 'Installs', 'Type', 'Price', 'Content Rating', 'Genres', 'Last Updated', 'Current Ver', 'Android Ver']\n",
            "['Photo Editor & Candy Camera & Grid & ScrapBook', 'ART_AND_DESIGN', '4.1', '159', '19M', '10,000+', 'Free', '0', 'Everyone', 'Art & Design', 'January 7, 2018', '1.0.0', '4.0.3 and up']\n",
            "\n",
            "\n",
            "Number of rows: 9659\n",
            "Number of columns: 13\n"
          ]
        }
      ]
    },
    {
      "cell_type": "code",
      "source": [
        "dataAndroid.clean_english(0)\n",
        "dataIos.clean_english(1)\n",
        "\n",
        "dataAndroid.explore_data(0, 1, True)\n",
        "print('\\n')\n",
        "dataIos.explore_data(0, 1, True)"
      ],
      "metadata": {
        "colab": {
          "base_uri": "https://localhost:8080/"
        },
        "id": "KlMyq1OkOCyN",
        "outputId": "92e82d22-7514-4452-a8a6-a70dc020d274"
      },
      "execution_count": 50,
      "outputs": [
        {
          "output_type": "stream",
          "name": "stdout",
          "text": [
            "['Photo Editor & Candy Camera & Grid & ScrapBook', 'ART_AND_DESIGN', '4.1', '159', '19M', '10,000+', 'Free', '0', 'Everyone', 'Art & Design', 'January 7, 2018', '1.0.0', '4.0.3 and up']\n",
            "\n",
            "\n",
            "Number of rows: 9614\n",
            "Number of columns: 13\n",
            "\n",
            "\n",
            "['284882215', 'Facebook', '389879808', 'USD', '0.0', '2974676', '212', '3.5', '3.5', '95.0', '4+', 'Social Networking', '37', '1', '29', '1']\n",
            "\n",
            "\n",
            "Number of rows: 6183\n",
            "Number of columns: 16\n"
          ]
        }
      ]
    },
    {
      "cell_type": "code",
      "source": [
        "dataAndroid.free_apps(7)\n",
        "dataIos.free_apps(4)\n",
        "dataAndroid.explore_data(0, 1, True)\n",
        "dataIos.explore_data(0, 1, True)"
      ],
      "metadata": {
        "colab": {
          "base_uri": "https://localhost:8080/"
        },
        "id": "JqHUjNgIRECT",
        "outputId": "977483ce-0efa-42db-8cd1-19a4181a81c1"
      },
      "execution_count": 51,
      "outputs": [
        {
          "output_type": "stream",
          "name": "stdout",
          "text": [
            "['Photo Editor & Candy Camera & Grid & ScrapBook', 'ART_AND_DESIGN', '4.1', '159', '19M', '10,000+', 'Free', '0', 'Everyone', 'Art & Design', 'January 7, 2018', '1.0.0', '4.0.3 and up']\n",
            "\n",
            "\n",
            "Number of rows: 8864\n",
            "Number of columns: 13\n",
            "['284882215', 'Facebook', '389879808', 'USD', '0.0', '2974676', '212', '3.5', '3.5', '95.0', '4+', 'Social Networking', '37', '1', '29', '1']\n",
            "\n",
            "\n",
            "Number of rows: 3222\n",
            "Number of columns: 16\n"
          ]
        }
      ]
    },
    {
      "cell_type": "code",
      "source": [
        "dataAndroid.display_table(1)\n",
        "print(\"\\n\")\n",
        "dataIos.display_table(-5)"
      ],
      "metadata": {
        "colab": {
          "base_uri": "https://localhost:8080/"
        },
        "id": "c-5br6jOWJBg",
        "outputId": "d8adf6f3-1f8a-4656-fd1a-9675cd80fdc4"
      },
      "execution_count": 53,
      "outputs": [
        {
          "output_type": "stream",
          "name": "stdout",
          "text": [
            "FAMILY : 18.907942238267147\n",
            "GAME : 9.724729241877256\n",
            "TOOLS : 8.461191335740072\n",
            "BUSINESS : 4.591606498194946\n",
            "LIFESTYLE : 3.9034296028880866\n",
            "PRODUCTIVITY : 3.892148014440433\n",
            "FINANCE : 3.7003610108303246\n",
            "MEDICAL : 3.531137184115524\n",
            "SPORTS : 3.395758122743682\n",
            "PERSONALIZATION : 3.3167870036101084\n",
            "COMMUNICATION : 3.2378158844765346\n",
            "HEALTH_AND_FITNESS : 3.0798736462093865\n",
            "PHOTOGRAPHY : 2.944494584837545\n",
            "NEWS_AND_MAGAZINES : 2.7978339350180503\n",
            "SOCIAL : 2.6624548736462095\n",
            "TRAVEL_AND_LOCAL : 2.33528880866426\n",
            "SHOPPING : 2.2450361010830324\n",
            "BOOKS_AND_REFERENCE : 2.1435018050541514\n",
            "DATING : 1.861462093862816\n",
            "VIDEO_PLAYERS : 1.7937725631768955\n",
            "MAPS_AND_NAVIGATION : 1.3989169675090252\n",
            "FOOD_AND_DRINK : 1.2409747292418771\n",
            "EDUCATION : 1.1620036101083033\n",
            "ENTERTAINMENT : 0.9589350180505415\n",
            "LIBRARIES_AND_DEMO : 0.9363718411552346\n",
            "AUTO_AND_VEHICLES : 0.9250902527075812\n",
            "HOUSE_AND_HOME : 0.8235559566787004\n",
            "WEATHER : 0.8009927797833934\n",
            "EVENTS : 0.7107400722021661\n",
            "PARENTING : 0.6543321299638989\n",
            "ART_AND_DESIGN : 0.6430505415162455\n",
            "COMICS : 0.6204873646209386\n",
            "BEAUTY : 0.5979241877256317\n",
            "\n",
            "\n",
            "Games : 58.16263190564867\n",
            "Entertainment : 7.883302296710118\n",
            "Photo & Video : 4.9658597144630665\n",
            "Education : 3.662321539416512\n",
            "Social Networking : 3.2898820608317814\n",
            "Shopping : 2.60707635009311\n",
            "Utilities : 2.5139664804469275\n",
            "Sports : 2.1415270018621975\n",
            "Music : 2.0484171322160147\n",
            "Health & Fitness : 2.0173805090006205\n",
            "Productivity : 1.7380509000620732\n",
            "Lifestyle : 1.5828677839851024\n",
            "News : 1.3345747982619491\n",
            "Travel : 1.2414649286157666\n",
            "Finance : 1.1173184357541899\n",
            "Weather : 0.8690254500310366\n",
            "Food & Drink : 0.8069522036002483\n",
            "Reference : 0.5586592178770949\n",
            "Business : 0.5276225946617008\n",
            "Book : 0.4345127250155183\n",
            "Navigation : 0.186219739292365\n",
            "Medical : 0.186219739292365\n",
            "Catalogs : 0.12414649286157665\n"
          ]
        }
      ]
    }
  ]
}